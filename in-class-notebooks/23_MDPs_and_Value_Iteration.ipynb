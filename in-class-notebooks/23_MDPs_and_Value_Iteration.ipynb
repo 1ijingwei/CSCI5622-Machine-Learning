{
 "cells": [
  {
   "cell_type": "markdown",
   "metadata": {},
   "source": [
    "# Lecture 23: Markov Decision Processes and Value Iteration\n",
    "***\n",
    "\n",
    "        \n",
    "<img src=\"figs/robot_banner.png\",width=1000,height=50>        "
   ]
  },
  {
   "cell_type": "code",
   "execution_count": 53,
   "metadata": {
    "collapsed": false,
    "scrolled": true
   },
   "outputs": [],
   "source": [
    "import numpy as np \n",
    "import matplotlib.pyplot as plt\n",
    "%matplotlib inline\n",
    "import matplotlib.patches as patches\n",
    "\n",
    "msize = 200\n",
    "myfigsize=(12,6)\n",
    "\n",
    "mycolors = {\"blue\": \"steelblue\", \"red\": \"#a76c6e\", \"green\": \"#6a9373\"}\n",
    "\n",
    "class GridWorld:\n",
    "    def __init__(self, nx, ny, terminal_states, terminal_values, dead_states, reward=-5, discount=1):\n",
    "        self.terminal_states=terminal_states\n",
    "        self.dead_states=dead_states\n",
    "        self.R = reward \n",
    "        self.gamma = discount\n",
    "        self.V = np.zeros((nx,ny))\n",
    "        for s, val in zip(terminal_states, terminal_values):\n",
    "            self.V[s] = val \n",
    "        self.grid = [(ii,jj) for ii in range(nx) for jj in range(ny) if (ii,jj) not in terminal_states and (ii,jj) not in dead_states]\n",
    "        self.moves = {}\n",
    "        for s in self.grid:\n",
    "            self.moves[s] = self.get_moves(s)\n",
    "                \n",
    "    def get_moves(self, s=None):\n",
    "        directions = [(0,1), (0,-1), (1,0), (-1,0)] # U, D, R, L\n",
    "        maybe_moves = [tuple(p+d for p, d in zip(s, d)) for d in directions]\n",
    "        actual_moves = [] \n",
    "        for move in maybe_moves:\n",
    "            if move in self.grid or move in self.terminal_states:\n",
    "                actual_moves.append(move)\n",
    "            else:\n",
    "                actual_moves.append(s)\n",
    "        return actual_moves\n",
    "    \n",
    "    def value_iteration(self, eps=1e-5, max_iter=None, diagnostic=False):\n",
    "        Ps = [[.8, .0, .1, .1], [.0, .8, .1, .1], [.1, .1, .8, .0], [.1, .1, .0, .8]]\n",
    "        tol = eps * np.max(self.V)\n",
    "        delta = np.inf \n",
    "        iters = 0\n",
    "        old_policy = [self.policy(s) for s in self.grid]\n",
    "        while delta > tol: \n",
    "            iters += 1\n",
    "            if max_iter and iters >= max_iter:\n",
    "                break\n",
    "            Vprime = self.V.copy()\n",
    "            delta = 0 \n",
    "            for s in self.grid:\n",
    "                utilities = [self.V[m] for m in self.moves[s]]\n",
    "                actions = [np.dot(P, utilities) for P in Ps]\n",
    "                Vprime[s] = self.R + self.gamma * np.max(actions)\n",
    "                diff = np.abs(self.V[s]-Vprime[s])\n",
    "                delta = diff if diff > delta else delta \n",
    "            self.V = Vprime\n",
    "            if diagnostic:\n",
    "                new_policy = [self.policy(s) for s in self.grid]\n",
    "                pchange = sum([new != old for new, old in zip(new_policy, old_policy)])\n",
    "                old_policy = new_policy\n",
    "                print \"{:d} policy changes on iteration {:d}\".format(pchange,iters)\n",
    "            \n",
    "        print \"\\nValue Iteration converged in {:d} iterations\".format(iters)\n",
    "            \n",
    "    def policy(self, s):\n",
    "        Ps = [[.8, .0, .1, .1], [.0, .8, .1, .1], [.1, .1, .8, .0], [.1, .1, .0, .8]]\n",
    "        utilities = [self.V[m] for m in self.moves[s]]\n",
    "        actions = [np.dot(P, utilities) for P in Ps]\n",
    "        return np.argmax(actions)\n",
    "        \n",
    "    \n",
    "    def draw_utility(self):\n",
    "        \n",
    "        # Get board limits \n",
    "        mxx = max([ii for ii, jj in self.grid])\n",
    "        mxy = max([jj for ii, jj in self.grid])\n",
    "        \n",
    "        # Draw board \n",
    "        fig = plt.figure(figsize=(2*mxx,2*mxy))\n",
    "        ax = fig.add_subplot(111, aspect='equal')\n",
    "        \n",
    "        for sq in self.grid:\n",
    "            ax.add_patch(patches.Rectangle(sq, 1, 1, lw=1, edgecolor=\"black\", fill=None))\n",
    "            ax.add_patch(patches.Rectangle(sq, 1, 1, lw=1, facecolor=\"black\", alpha=0.01))\n",
    "        for sq in self.terminal_states:\n",
    "            color = mycolors[\"red\"] if self.V[sq] < 0 else mycolors[\"green\"]\n",
    "            ax.add_patch(patches.Rectangle(sq, 1, 1, lw=1, edgecolor=\"black\", fill=None))\n",
    "            ax.add_patch(patches.Rectangle(sq, 1, 1, lw=1, facecolor=color, alpha=0.5))\n",
    "        for s in self.dead_states:\n",
    "            ax.add_patch(patches.Rectangle(s, 1, 1, lw=1, edgecolor=\"black\", fill=None))\n",
    "            ax.add_patch(patches.Rectangle(s, 1, 1, lw=1, facecolor=\"black\", alpha=0.7))\n",
    "            \n",
    "        for sq in self.grid:\n",
    "            ax.text(sq[0]+.2,sq[1]+.4, \"{:+3.3f}\".format(self.V[sq]), fontsize=16)\n",
    "        for sq in self.terminal_states:\n",
    "            ax.text(sq[0]+.2,sq[1]+.4, \"{:+3.3f}\".format(self.V[sq]), fontsize=16)\n",
    "        \n",
    "        # Make pretty     \n",
    "        ax.set_xlim(-.1,mxx+1.1)\n",
    "        ax.set_ylim(-.1,mxy+1.1)\n",
    "        plt.xticks([], fontsize=16)\n",
    "        plt.yticks([], fontsize=16)\n",
    "        ax.spines['top'].set_visible(False)\n",
    "        ax.spines['right'].set_visible(False)\n",
    "        ax.spines['bottom'].set_visible(False)\n",
    "        ax.spines['left'].set_visible(False)\n",
    "        plt.tight_layout()\n",
    "        \n",
    "        \n",
    "    def draw_policy(self):\n",
    "        \n",
    "        # Get board limits \n",
    "        mxx = max([ii for ii, jj in self.grid])\n",
    "        mxy = max([jj for ii, jj in self.grid])\n",
    "        \n",
    "        # Draw board \n",
    "        fig = plt.figure(figsize=(2*mxx,2*mxy))\n",
    "        ax = fig.add_subplot(111, aspect='equal')\n",
    "        \n",
    "        for s in self.grid:\n",
    "            ax.add_patch(patches.Rectangle(s, 1, 1, lw=1, edgecolor=\"black\", fill=None))\n",
    "            ax.add_patch(patches.Rectangle(s, 1, 1, lw=1, facecolor=\"black\", alpha=0.01))\n",
    "        for s in self.terminal_states:\n",
    "            color = mycolors[\"red\"] if self.V[s] < 0 else mycolors[\"green\"]\n",
    "            ax.add_patch(patches.Rectangle(s, 1, 1, lw=1, edgecolor=\"black\", fill=None))\n",
    "            ax.add_patch(patches.Rectangle(s, 1, 1, lw=1, facecolor=color, alpha=0.5))\n",
    "        for s in self.dead_states:\n",
    "            ax.add_patch(patches.Rectangle(s, 1, 1, lw=1, edgecolor=\"black\", fill=None))\n",
    "            ax.add_patch(patches.Rectangle(s, 1, 1, lw=1, facecolor=\"black\", alpha=0.7))\n",
    "            \n",
    "        for s in self.grid:\n",
    "            action = self.policy(s)\n",
    "            if action == 0:\n",
    "                ax.arrow(s[0]+.5, s[1]+.25, 0, 0.35, head_width=0.15, head_length=0.15, fc='k', ec='k')\n",
    "            if action == 1:\n",
    "                ax.arrow(s[0]+.5, s[1]+.75, 0, -0.35, head_width=0.15, head_length=0.15, fc='k', ec='k')\n",
    "            if action == 2:\n",
    "                ax.arrow(s[0]+.25, s[1]+.5, 0.35, 0, head_width=0.15, head_length=0.15, fc='k', ec='k')\n",
    "            if action == 3:\n",
    "                ax.arrow(s[0]+.75, s[1]+.5, -0.35, 0, head_width=0.15, head_length=0.15, fc='k', ec='k')\n",
    "        for s in self.terminal_states:\n",
    "            ax.text(s[0]+.2,s[1]+.4, \"{:+3.3f}\".format(self.V[s]), fontsize=16)\n",
    "        \n",
    "        # Make pretty     \n",
    "        ax.set_xlim(-.1,mxx+1.1)\n",
    "        ax.set_ylim(-.1,mxy+1.1)\n",
    "        plt.xticks([], fontsize=16)\n",
    "        plt.yticks([], fontsize=16)\n",
    "        ax.spines['top'].set_visible(False)\n",
    "        ax.spines['right'].set_visible(False)\n",
    "        ax.spines['bottom'].set_visible(False)\n",
    "        ax.spines['left'].set_visible(False)\n",
    "        plt.tight_layout()\n"
   ]
  },
  {
   "cell_type": "code",
   "execution_count": 63,
   "metadata": {
    "collapsed": false
   },
   "outputs": [
    {
     "name": "stdout",
     "output_type": "stream",
     "text": [
      "\n",
      "Value Iteration converged in 1 iterations\n"
     ]
    },
    {
     "data": {
      "image/png": "[encoded data removed]",
      "text/plain": [
       "<matplotlib.figure.Figure at 0x10a06d490>"
      ]
     },
     "metadata": {},
     "output_type": "display_data"
    },
    {
     "data": {
      "image/png": "[encoded data removed]",
      "text/plain": [
       "<matplotlib.figure.Figure at 0x10a3a0310>"
      ]
     },
     "metadata": {},
     "output_type": "display_data"
    }
   ],
   "source": [
    "nx, ny = 3, 3\n",
    "terminal_states = [(2,2), (2,1)]\n",
    "terminal_values = [100, -100]\n",
    "dead_states = [(0,0), (0,1), (0,2)]\n",
    "non_terminal_reward = -10\n",
    "discount = 0.50\n",
    "world = GridWorld(nx, ny, terminal_states, terminal_values, dead_states, discount=discount, reward=non_terminal_reward)\n",
    "world.value_iteration(diagnostic=True, max_iter=1)\n",
    "world.draw_policy()\n",
    "world.draw_utility()"
   ]
  },
  {
   "cell_type": "code",
   "execution_count": 69,
   "metadata": {
    "collapsed": false
   },
   "outputs": [
    {
     "data": {
      "image/png": "[encoded data removed]",
      "text/plain": [
       "<matplotlib.figure.Figure at 0x1087fa410>"
      ]
     },
     "metadata": {},
     "output_type": "display_data"
    },
    {
     "data": {
      "image/png": "[encoded data removed]",
      "text/plain": [
       "<matplotlib.figure.Figure at 0x10a56ced0>"
      ]
     },
     "metadata": {},
     "output_type": "display_data"
    }
   ],
   "source": [
    "world.V = 20*np.ones((3,3))\n",
    "world.V[2,1] = -100\n",
    "world.V[2,2] = +100\n",
    "world.draw_utility()\n",
    "world.draw_policy()"
   ]
  },
  {
   "cell_type": "code",
   "execution_count": null,
   "metadata": {
    "collapsed": true
   },
   "outputs": [],
   "source": []
  }
 ],
 "metadata": {
  "kernelspec": {
   "display_name": "Python 2",
   "language": "python",
   "name": "python2"
  },
  "language_info": {
   "codemirror_mode": {
    "name": "ipython",
    "version": 2
   },
   "file_extension": ".py",
   "mimetype": "text/x-python",
   "name": "python",
   "nbconvert_exporter": "python",
   "pygments_lexer": "ipython2",
   "version": "2.7.12"
  }
 },
 "nbformat": 4,
 "nbformat_minor": 0
}
